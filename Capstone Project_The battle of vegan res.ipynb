{
    "cells": [
        {
            "cell_type": "markdown",
            "metadata": {
                "collapsed": true
            },
            "source": "# Introduction/Business Problem"
        },
        {
            "cell_type": "markdown",
            "metadata": {},
            "source": "In a hypothetical business scenario, I am a restaurant consultant who provides insights on the culinary scene aross the U.S. My new client has a very successful vegan fine-dining restaurant in Los Angeles, California. The restaurant's name is Vega-Hype.The owner would like to get on the vegan bandwagon and needed help to expand his business locations.  My task is to come up with a list of cities in California and potentially populous cities across the nation with similar characteristics to Vega-Hype's existing location, Los Angeles, California.   "
        },
        {
            "cell_type": "markdown",
            "metadata": {},
            "source": "# Data used to solve the problem"
        },
        {
            "cell_type": "markdown",
            "metadata": {},
            "source": "- Coordinates of California cities and 1000 largest U.S. cities: <br />\nhttps://www.w3.org/2003/01/geo/test/ustowns/latlong.htm <br />\nhttps://public.opendatasoft.com/explore/dataset/1000-largest-us-cities-by-population-with-geographic-coordinates/table/ <br />\n- Foursquare location data API\n"
        },
        {
            "cell_type": "code",
            "execution_count": null,
            "metadata": {},
            "outputs": [],
            "source": ""
        }
    ],
    "metadata": {
        "kernelspec": {
            "display_name": "Python 3.6",
            "language": "python",
            "name": "python3"
        },
        "language_info": {
            "codemirror_mode": {
                "name": "ipython",
                "version": 3
            },
            "file_extension": ".py",
            "mimetype": "text/x-python",
            "name": "python",
            "nbconvert_exporter": "python",
            "pygments_lexer": "ipython3",
            "version": "3.6.8"
        }
    },
    "nbformat": 4,
    "nbformat_minor": 1
}